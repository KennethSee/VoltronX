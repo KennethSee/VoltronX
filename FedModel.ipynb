{
 "cells": [
  {
   "cell_type": "code",
   "execution_count": 2,
   "metadata": {},
   "outputs": [],
   "source": [
    "import duckdb\n",
    "import numpy as np\n",
    "import pandas as pd\n",
    "import xgboost as xgb\n",
    "from sklearn.preprocessing import OneHotEncoder"
   ]
  },
  {
   "cell_type": "code",
   "execution_count": 1,
   "metadata": {},
   "outputs": [],
   "source": [
    "def encode_data(df, categories):\n",
    "    encoders = {}\n",
    "    for col, cats in categories.items():\n",
    "        df[col] = pd.Categorical(df[col], categories=cats)\n",
    "        encoders[col] = OneHotEncoder(categories=[cats], drop=None, sparse=False)\n",
    "        encoded = encoders[col].fit_transform(df[[col]])\n",
    "        for i, category in enumerate(cats):\n",
    "            df[f\"{col}_{category}\"] = encoded[:, i]\n",
    "        df.drop(columns=[col], inplace=True)\n",
    "    return df, encoders"
   ]
  },
  {
   "cell_type": "code",
   "execution_count": 3,
   "metadata": {},
   "outputs": [],
   "source": [
    "full_transactions_file = 'data/transaction_dataset.parquet'\n",
    "full_accounts_file = 'data/account_dataset.parquet'\n",
    "train_target_file = 'data/train_target_dataset.parquet'"
   ]
  },
  {
   "cell_type": "code",
   "execution_count": 4,
   "metadata": {},
   "outputs": [
    {
     "data": {
      "text/html": [
       "<div>\n",
       "<style scoped>\n",
       "    .dataframe tbody tr th:only-of-type {\n",
       "        vertical-align: middle;\n",
       "    }\n",
       "\n",
       "    .dataframe tbody tr th {\n",
       "        vertical-align: top;\n",
       "    }\n",
       "\n",
       "    .dataframe thead th {\n",
       "        text-align: right;\n",
       "    }\n",
       "</style>\n",
       "<table border=\"1\" class=\"dataframe\">\n",
       "  <thead>\n",
       "    <tr style=\"text-align: right;\">\n",
       "      <th></th>\n",
       "      <th>month</th>\n",
       "      <th>assigned_bank</th>\n",
       "      <th>num_fraud_txn</th>\n",
       "    </tr>\n",
       "  </thead>\n",
       "  <tbody>\n",
       "    <tr>\n",
       "      <th>0</th>\n",
       "      <td>9</td>\n",
       "      <td>large_digital_1</td>\n",
       "      <td>134</td>\n",
       "    </tr>\n",
       "    <tr>\n",
       "      <th>1</th>\n",
       "      <td>7</td>\n",
       "      <td>large_1</td>\n",
       "      <td>633</td>\n",
       "    </tr>\n",
       "    <tr>\n",
       "      <th>2</th>\n",
       "      <td>6</td>\n",
       "      <td>large_1</td>\n",
       "      <td>559</td>\n",
       "    </tr>\n",
       "    <tr>\n",
       "      <th>3</th>\n",
       "      <td>9</td>\n",
       "      <td>local_3</td>\n",
       "      <td>175</td>\n",
       "    </tr>\n",
       "    <tr>\n",
       "      <th>4</th>\n",
       "      <td>4</td>\n",
       "      <td>large_2</td>\n",
       "      <td>331</td>\n",
       "    </tr>\n",
       "    <tr>\n",
       "      <th>...</th>\n",
       "      <td>...</td>\n",
       "      <td>...</td>\n",
       "      <td>...</td>\n",
       "    </tr>\n",
       "    <tr>\n",
       "      <th>82</th>\n",
       "      <td>7</td>\n",
       "      <td>local_1</td>\n",
       "      <td>237</td>\n",
       "    </tr>\n",
       "    <tr>\n",
       "      <th>83</th>\n",
       "      <td>5</td>\n",
       "      <td>small_digital_2</td>\n",
       "      <td>8</td>\n",
       "    </tr>\n",
       "    <tr>\n",
       "      <th>84</th>\n",
       "      <td>10</td>\n",
       "      <td>large_digital_1</td>\n",
       "      <td>39</td>\n",
       "    </tr>\n",
       "    <tr>\n",
       "      <th>85</th>\n",
       "      <td>1</td>\n",
       "      <td>small_digital_1</td>\n",
       "      <td>14</td>\n",
       "    </tr>\n",
       "    <tr>\n",
       "      <th>86</th>\n",
       "      <td>2</td>\n",
       "      <td>small_digital_1</td>\n",
       "      <td>2</td>\n",
       "    </tr>\n",
       "  </tbody>\n",
       "</table>\n",
       "<p>87 rows × 3 columns</p>\n",
       "</div>"
      ],
      "text/plain": [
       "    month    assigned_bank  num_fraud_txn\n",
       "0       9  large_digital_1            134\n",
       "1       7          large_1            633\n",
       "2       6          large_1            559\n",
       "3       9          local_3            175\n",
       "4       4          large_2            331\n",
       "..    ...              ...            ...\n",
       "82      7          local_1            237\n",
       "83      5  small_digital_2              8\n",
       "84     10  large_digital_1             39\n",
       "85      1  small_digital_1             14\n",
       "86      2  small_digital_1              2\n",
       "\n",
       "[87 rows x 3 columns]"
      ]
     },
     "execution_count": 4,
     "metadata": {},
     "output_type": "execute_result"
    }
   ],
   "source": [
    "# sample code\n",
    "duckdb.sql(f\"\"\"\n",
    "           SELECT txn.month, acc.assigned_bank, COUNT(txn.*) AS num_fraud_txn\n",
    "           FROM '{full_transactions_file}' txn\n",
    "             JOIN '{train_target_file}' launder ON launder.transaction_id = txn.transaction_id\n",
    "             JOIN '{full_accounts_file}' acc ON txn.account_id = acc.account_id AND txn.transaction_direction = 'inbound'\n",
    "           GROUP BY txn.month, acc.assigned_bank\n",
    "           \"\"\").df()"
   ]
  },
  {
   "cell_type": "markdown",
   "metadata": {},
   "source": [
    "# Split data by banks"
   ]
  },
  {
   "cell_type": "code",
   "execution_count": 5,
   "metadata": {},
   "outputs": [],
   "source": [
    "# get list of banks\n",
    "banks = duckdb.sql(f\"\"\"\n",
    "    SELECT DISTINCT assigned_bank\n",
    "    FROM '{full_transactions_file}' txn\n",
    "        JOIN '{full_accounts_file}' acc ON txn.account_id = acc.account_id AND txn.transaction_direction = 'inbound'\n",
    "\"\"\").df()['assigned_bank'].tolist()\n",
    "\n",
    "bank_txns = []\n",
    "for bank in banks:\n",
    "    df_temp = duckdb.sql(f\"\"\"\n",
    "                SELECT txn.*,\n",
    "                         CASE WHEN txn.transaction_id IN (SELECT transaction_id FROM '{train_target_file}') THEN 1 ELSE 0 END AS IsFraud\n",
    "                FROM  '{full_transactions_file}' txn\n",
    "                    JOIN '{full_accounts_file}' acc ON txn.account_id = acc.account_id AND txn.transaction_direction = 'inbound'\n",
    "                WHERE acc.assigned_bank = '{bank}'\n",
    "               \"\"\").df()\n",
    "    bank_txns.append(df_temp)"
   ]
  },
  {
   "cell_type": "code",
   "execution_count": 13,
   "metadata": {},
   "outputs": [],
   "source": [
    "def train_model(df, target:str, inputs:list):\n",
    "    X = df[inputs].values\n",
    "    y = df[target].values\n",
    "\n",
    "    dmatrix = xgb.DMatrix(X, label=y)\n",
    "    params = {'objective': 'binary:logistic', 'max_depth': 3, 'learning_rate': 0.1}\n",
    "    model = xgb.train(params, dmatrix, num_boost_round=10)\n",
    "    return model"
   ]
  },
  {
   "cell_type": "code",
   "execution_count": 14,
   "metadata": {},
   "outputs": [],
   "source": [
    "model = train_model(bank_txns[0], 'IsFraud', ['amount'])"
   ]
  },
  {
   "cell_type": "code",
   "execution_count": 17,
   "metadata": {},
   "outputs": [
    {
     "data": {
      "text/plain": [
       "['0:[f0<568] yes=1,no=2,missing=2,gain=0.625,cover=533641.062\\n\\t1:leaf=-0.11347165,cover=248556.391\\n\\t2:leaf=-0.11309576,cover=285084.656\\n',\n",
       " '0:[f0<610] yes=1,no=2,missing=2,gain=0.8125,cover=488908.188\\n\\t1:leaf=-0.112006716,cover=235173.766\\n\\t2:leaf=-0.111597531,cover=253734.422\\n',\n",
       " '0:[f0<568] yes=1,no=2,missing=2,gain=0.9375,cover=447350.688\\n\\t1:leaf=-0.110721491,cover=208295.266\\n\\t2:leaf=-0.110281661,cover=239055.422\\n',\n",
       " '0:[f0<610] yes=1,no=2,missing=2,gain=1.1875,cover=408864.875\\n\\t1:leaf=-0.109574139,cover=196599.844\\n\\t2:leaf=-0.109091453,cover=212265.016\\n',\n",
       " '0:[f0<610] yes=1,no=2,missing=2,gain=1.40625,cover=373320.438\\n\\t1:leaf=-0.108559214,cover=179468.875\\n\\t2:leaf=-0.108032599,cover=193851.562\\n',\n",
       " '0:[f0<610] yes=1,no=2,missing=2,gain=1.71875,cover=340569.469\\n\\t1:leaf=-0.107655361,cover=163683.812\\n\\t2:leaf=-0.107079498,cover=176885.641\\n',\n",
       " '0:[f0<610] yes=1,no=2,missing=2,gain=1.90625,cover=310453.844\\n\\t1:leaf=-0.106848441,cover=149168.578\\n\\t2:leaf=-0.106217578,cover=161285.281\\n',\n",
       " '0:[f0<610] yes=1,no=2,missing=2,gain=2.28125,cover=282810.75\\n\\t1:leaf=-0.106126368,cover=135844.75\\n\\t2:leaf=-0.105434202,cover=146966\\n',\n",
       " '0:[f0<610] yes=1,no=2,missing=2,gain=2.65625,cover=257476.75\\n\\t1:leaf=-0.105478659,cover=123633.695\\n\\t2:leaf=-0.104718424,cover=133843.047\\n',\n",
       " '0:[f0<610] yes=1,no=2,missing=2,gain=3,cover=234290.688\\n\\t1:leaf=-0.104896329,cover=112457.75\\n\\t2:leaf=-0.104060531,cover=121832.938\\n']"
      ]
     },
     "execution_count": 17,
     "metadata": {},
     "output_type": "execute_result"
    }
   ],
   "source": [
    "model.get_dump(with_stats=True)"
   ]
  },
  {
   "cell_type": "code",
   "execution_count": 18,
   "metadata": {},
   "outputs": [
    {
     "data": {
      "text/plain": [
       "np.float64(0.9997127055247296)"
      ]
     },
     "execution_count": 18,
     "metadata": {},
     "output_type": "execute_result"
    }
   ],
   "source": [
    "dmatrix = xgb.DMatrix(bank_txns[1][['amount']].values, label=bank_txns[1]['IsFraud'].values)\n",
    "preds = model.predict(dmatrix)\n",
    "np.mean((preds > 0.5) == bank_txns[1]['IsFraud'].values)"
   ]
  },
  {
   "cell_type": "code",
   "execution_count": null,
   "metadata": {},
   "outputs": [],
   "source": []
  }
 ],
 "metadata": {
  "kernelspec": {
   "display_name": "bisanalyticschallenge",
   "language": "python",
   "name": "python3"
  },
  "language_info": {
   "codemirror_mode": {
    "name": "ipython",
    "version": 3
   },
   "file_extension": ".py",
   "mimetype": "text/x-python",
   "name": "python",
   "nbconvert_exporter": "python",
   "pygments_lexer": "ipython3",
   "version": "3.13.1"
  }
 },
 "nbformat": 4,
 "nbformat_minor": 2
}
